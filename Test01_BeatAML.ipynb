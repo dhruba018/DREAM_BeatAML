{
 "cells": [
  {
   "cell_type": "markdown",
   "metadata": {},
   "source": [
    "#### CTD$^2$ Beat AML Challenge\n",
    "##### Subchallenge 1\n",
    "_Data files._ \n",
    "* Genetic: rnaseq.csv, dnaseq.csv \n",
    "* Clinical: clinical_numerical.csv, clinical_categorical.csv, clinical_categorical_legend.csv \n",
    "* Response: aucs.csv, response.csv \n",
    "\n",
    "_Goal._ Predict AUC from the given data.\n",
    "\n",
    "_Steps._ \n",
    "* Read RNA-seq, DNA-seq, AUC datasets \n",
    "* Used DNA-seq for feature selection on RNA-seq \n",
    "* Model AUC using RNA-seq \n",
    "\n"
   ]
  },
  {
   "cell_type": "code",
   "execution_count": 1,
   "metadata": {},
   "outputs": [],
   "source": [
    "import os\n",
    "# import sys\n",
    "import numpy as np\n",
    "import scipy as sp\n",
    "import pandas as pd\n",
    "# import matplotlib.pyplot as plt\n",
    "from time import time\n",
    "from tqdm import tqdm\n",
    "\n",
    "from sklearn.model_selection import KFold\n",
    "from sklearn.svm import SVR\n",
    "from sklearn.linear_model import ElasticNet\n",
    "from sklearn.ensemble import RandomForestRegressor\n",
    "from scipy.stats import pearsonr, spearmanr\n",
    "\n",
    "\n",
    "## Path & Filename...\n",
    "PATH = os.path.join(os.getenv(\"HOMEPATH\"), \"Google Drive\\\\Study\\\\ECE 5332-009 - Topics in EE, Data Science\\\\BeatAML\\\\\")\n",
    "os.chdir(PATH)\n",
    "\n",
    "## Read data...\n",
    "RNA = pd.read_csv(PATH + \"rnaseq.csv\", header = 0)\n",
    "DNA = pd.read_csv(PATH + \"dnaseq.csv\", header = 0)\n",
    "AUC = pd.read_csv(PATH + \"aucs.csv\",   header = 0)\n",
    "# RESP = pd.read_csv(PATH + \"response.csv\", header = 0)\n",
    "\n",
    "# print(\"Dataset sizes = \\n\", pd.DataFrame([RNA.shape, DNA.shape, AUC.shape], index = [\"RNA\", \"DNA\", \"AUC\"], columns = [\"row\", \"col\"]))\n"
   ]
  },
  {
   "cell_type": "code",
   "execution_count": 2,
   "metadata": {},
   "outputs": [],
   "source": [
    "## Feature selection...\n",
    "variant_count = pd.DataFrame([[vv, (DNA.Hugo_Symbol.to_numpy() == vv).sum()] for vv in DNA.Hugo_Symbol.unique()], columns = [\"gene\", \"counts\"])\n",
    "variant_count = variant_count.iloc[variant_count.counts.argsort()[::-1], :].reset_index(drop = True)\n",
    "# print(\"#genes with somatic variants = %d\\#genes with somatic variant count > 1 = %d\" % (variant_count.shape[0], (variant_count.count > 1).sum()))\n",
    "# print(variant_count)\n",
    "\n",
    "all([(gg == RNA.Symbol).sum() > 0 for gg in variant_count.gene])    # Check if all genes are in RNA-seq\n",
    "variant_genes, idx_RNA, _ = np.intersect1d(RNA.Symbol, variant_count.gene, assume_unique = False, return_indices = True)\n",
    "\n",
    "## Drug information...\n",
    "drug_info, drug_sample_count = [ ], [ ]\n",
    "for dd in AUC.inhibitor.unique():\n",
    "    drug_info.append((dd, AUC.iloc[(AUC.inhibitor == dd).to_numpy(), :]))\n",
    "    drug_sample_count.append([dd, (AUC.inhibitor == dd).sum()])\n",
    "drug_info, drug_sample_count = dict(drug_info), pd.DataFrame(drug_sample_count, columns = [\"inhibitor\", \"lab_id_count\"])\n",
    "# print(\"#inhibitors used = %d\\n\" % len(drug_info), drug_sample_count)\n"
   ]
  },
  {
   "cell_type": "code",
   "execution_count": 93,
   "metadata": {},
   "outputs": [],
   "source": [
    "## Function definitions...\n",
    "def RF(X_train, y_train, X_test, seed = None):\n",
    "    mdl = RandomForestRegressor(n_estimators = 100, criterion = 'mse', random_state = seed)\n",
    "    mdl.fit(X_train, y_train);     y_pred = mdl.predict(X_test)\n",
    "    return y_pred\n",
    "\n",
    "def SVM(X_train, y_train, X_test, seed):\n",
    "    mdl = SVR(kernel = \"rbf\", degree = 3, gamma = \"auto\", tol = 1e-3)\n",
    "    mdl.fit(X_train, y_train);     y_pred = mdl.predict(X_test)\n",
    "    return y_pred\n",
    "\n",
    "def PerfEval(y, y_hat, corr = \"pearson\", err = \"NRMSE\", alpha = 0.05, pval = False):\n",
    "    y, y_hat = np.array(y, dtype = float), np.array(y_hat, dtype = float)\n",
    "    y, y_hat = y.squeeze(), y_hat.squeeze()\n",
    "    if corr == \"pearson\":\n",
    "        CORR, p_val = pearsonr(y, y_hat)\n",
    "    elif corr == \"spearman\":\n",
    "        CORR, p_val = spearmanr(y, y_hat)\n",
    "    else:\n",
    "        print('Not valid! Use \"pearson\" or \"spearman\" for corr option.')\n",
    "    ####\n",
    "#     CORR, p_val = CORR[0], p_val[0]\n",
    "       \n",
    "    if p_val > alpha:\n",
    "        print(\"No significant correlation!\");    CORR = 0\n",
    "    ####    \n",
    "    \n",
    "    if err == \"NRMSE\":\n",
    "        ERR = sp.sqrt(((y - y_hat)**2).mean()) / y.std()\n",
    "    elif err == \"RMSE\":\n",
    "        ERR = sp.sqrt(((y - y_hat)**2).mean())\n",
    "    elif err == \"MSE\":\n",
    "        ERR = ((y - y_hat)**2).mean()\n",
    "    else:\n",
    "        print('Not valid! Use \"NRMSE\", \"RMSE\" or \"MSE\" for err option.')\n",
    "    ####\n",
    "    \n",
    "    return (CORR, ERR, p_val) if pval else (CORR, ERR)\n",
    "####\n"
   ]
  },
  {
   "cell_type": "code",
   "execution_count": 102,
   "metadata": {},
   "outputs": [
    {
     "name": "stderr",
     "output_type": "stream",
     "text": [
      "C:\\Anaconda3\\lib\\site-packages\\ipykernel_launcher.py:4: DataConversionWarning: A column-vector y was passed when a 1d array was expected. Please change the shape of y to (n_samples,), for example using ravel().\n",
      "  after removing the cwd from sys.path.\n",
      "C:\\Anaconda3\\lib\\site-packages\\sklearn\\utils\\validation.py:761: DataConversionWarning: A column-vector y was passed when a 1d array was expected. Please change the shape of y to (n_samples, ), for example using ravel().\n",
      "  y = column_or_1d(y, warn=True)\n",
      "C:\\Anaconda3\\lib\\site-packages\\ipykernel_launcher.py:4: DataConversionWarning: A column-vector y was passed when a 1d array was expected. Please change the shape of y to (n_samples,), for example using ravel().\n",
      "  after removing the cwd from sys.path.\n",
      "C:\\Anaconda3\\lib\\site-packages\\sklearn\\utils\\validation.py:761: DataConversionWarning: A column-vector y was passed when a 1d array was expected. Please change the shape of y to (n_samples, ), for example using ravel().\n",
      "  y = column_or_1d(y, warn=True)\n",
      "C:\\Anaconda3\\lib\\site-packages\\ipykernel_launcher.py:4: DataConversionWarning: A column-vector y was passed when a 1d array was expected. Please change the shape of y to (n_samples,), for example using ravel().\n",
      "  after removing the cwd from sys.path.\n",
      "C:\\Anaconda3\\lib\\site-packages\\sklearn\\utils\\validation.py:761: DataConversionWarning: A column-vector y was passed when a 1d array was expected. Please change the shape of y to (n_samples, ), for example using ravel().\n",
      "  y = column_or_1d(y, warn=True)\n",
      "C:\\Anaconda3\\lib\\site-packages\\ipykernel_launcher.py:4: DataConversionWarning: A column-vector y was passed when a 1d array was expected. Please change the shape of y to (n_samples,), for example using ravel().\n",
      "  after removing the cwd from sys.path.\n",
      "C:\\Anaconda3\\lib\\site-packages\\sklearn\\utils\\validation.py:761: DataConversionWarning: A column-vector y was passed when a 1d array was expected. Please change the shape of y to (n_samples, ), for example using ravel().\n",
      "  y = column_or_1d(y, warn=True)\n",
      "C:\\Anaconda3\\lib\\site-packages\\ipykernel_launcher.py:4: DataConversionWarning: A column-vector y was passed when a 1d array was expected. Please change the shape of y to (n_samples,), for example using ravel().\n",
      "  after removing the cwd from sys.path.\n",
      "C:\\Anaconda3\\lib\\site-packages\\sklearn\\utils\\validation.py:761: DataConversionWarning: A column-vector y was passed when a 1d array was expected. Please change the shape of y to (n_samples, ), for example using ravel().\n",
      "  y = column_or_1d(y, warn=True)\n"
     ]
    },
    {
     "name": "stdout",
     "output_type": "stream",
     "text": [
      "No significant correlation!\n",
      "Model performance for 5-fold cross validation = \n",
      "          PCC     NRMSE\n",
      "RF   0.41224  0.911421\n",
      "SVM  0.00000  1.000207\n"
     ]
    }
   ],
   "source": [
    "## Pick drug and build dataset for modeling...\n",
    "drug_picked = list(drug_info.keys())[0];    sample_ids = drug_info[drug_picked][\"lab_id\"]\n",
    "# print(\"Drug picked for analysis = %s\\n#samples = %d\" % (drug_picked, len(sample_ids)))\n",
    "\n",
    "X_data = pd.DataFrame(RNA.loc[idx_RNA, sample_ids].to_numpy().T, index = sample_ids, columns = variant_genes)\n",
    "y_data = pd.DataFrame(drug_info[drug_picked][\"auc\"].to_numpy(), index = sample_ids, columns = [\"auc\"])\n",
    "# print(\"Analysis dataset size = \\n\", pd.DataFrame([X_data.shape, y_data.shape], index = [\"X\", \"y\"], columns = [\"row\", \"col\"]))\n",
    "\n",
    "## Perform prediction...\n",
    "CV = KFold(n_splits = 5, shuffle = False, random_state = None)\n",
    "Y_data_pred = pd.DataFrame(index = sample_ids, columns = [\"RF\", \"SVM\"], dtype = float)\n",
    "for train_idx, test_idx in CV.split(X_data):\n",
    "    X_train, y_train = X_data.iloc[train_idx, :], y_data.iloc[train_idx]\n",
    "    X_test,  y_test  = X_data.iloc[test_idx, :],  y_data.iloc[test_idx]\n",
    "    \n",
    "    Y_data_pred[\"RF\"][test_idx]  =  RF(X_train, y_train, X_test, seed = None)\n",
    "    Y_data_pred[\"SVM\"][test_idx] = SVM(X_train, y_train, X_test, seed = None)\n",
    "####\n",
    "\n",
    "PCC1, NRMSE1, pval1 = PerfEval(y_data, Y_data_pred[\"RF\"],  pval = True)\n",
    "PCC2, NRMSE2, pval2 = PerfEval(y_data, Y_data_pred[\"SVM\"], pval = True)\n",
    "\n",
    "# PERF = pd.DataFrame({\"PCC\": PCC, \"NRMSE\": NRMSE}, index = [\"RF\", \"SVM\"]).T\n",
    "PERF = pd.DataFrame([[PCC1, NRMSE1], [PCC2, NRMSE2]], index = [\"RF\", \"SVM\"], columns = [\"PCC\", \"NRMSE\"])\n",
    "print(\"Model performance for 5-fold cross validation = \\n\", PERF)\n"
   ]
  },
  {
   "cell_type": "code",
   "execution_count": 36,
   "metadata": {},
   "outputs": [],
   "source": [
    "# %qtconsole --style monokai\n"
   ]
  }
 ],
 "metadata": {
  "kernelspec": {
   "display_name": "Python 3",
   "language": "python",
   "name": "python3"
  },
  "language_info": {
   "codemirror_mode": {
    "name": "ipython",
    "version": 3
   },
   "file_extension": ".py",
   "mimetype": "text/x-python",
   "name": "python",
   "nbconvert_exporter": "python",
   "pygments_lexer": "ipython3",
   "version": "3.7.6"
  }
 },
 "nbformat": 4,
 "nbformat_minor": 4
}
